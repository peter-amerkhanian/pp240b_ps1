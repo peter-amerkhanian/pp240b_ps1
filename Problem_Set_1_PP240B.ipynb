{
 "cells": [
  {
   "cell_type": "code",
   "execution_count": 1,
   "id": "350ff749",
   "metadata": {
    "scrolled": false
   },
   "outputs": [
    {
     "name": "stderr",
     "output_type": "stream",
     "text": [
      "Warning message:\n",
      "\"package 'spatstat' was built under R version 3.6.3\"Warning message:\n",
      "\"package 'spatstat.geom' was built under R version 3.6.3\"Warning message:\n",
      "\"package 'spatstat.core' was built under R version 3.6.3\"Warning message:\n",
      "\"package 'spatstat.linnet' was built under R version 3.6.3\""
     ]
    }
   ],
   "source": [
    "suppressMessages(library(readr))\n",
    "suppressMessages(library(dplyr))\n",
    "suppressMessages(library(ggplot2))\n",
    "suppressMessages(library(repr))\n",
    "suppressMessages(library(spatstat))"
   ]
  },
  {
   "cell_type": "code",
   "execution_count": 2,
   "id": "0530ef98",
   "metadata": {},
   "outputs": [
    {
     "name": "stderr",
     "output_type": "stream",
     "text": [
      "Parsed with column specification:\n",
      "cols(\n",
      "  leaid = col_double(),\n",
      "  leaname = col_character(),\n",
      "  fips = col_double(),\n",
      "  stateabb = col_character(),\n",
      "  ses = col_double(),\n",
      "  meangs = col_double(),\n",
      "  mnenrol = col_double(),\n",
      "  top100 = col_double()\n",
      ")\n"
     ]
    }
   ],
   "source": [
    "df <- read_csv(\"data/SEDA_DistrictData_toconvertforR.csv\")"
   ]
  },
  {
   "cell_type": "markdown",
   "id": "e49161f6",
   "metadata": {},
   "source": [
    "# Problem Set 1, PP240B\n",
    "## Peter Amerkhanian"
   ]
  },
  {
   "cell_type": "markdown",
   "id": "2f3b6d77",
   "metadata": {},
   "source": [
    "## Question 8\n",
    "## (i)\n",
    "How do you think the average student in your elementary school or district compared to the national average on math and reading tests?  \n",
    "Were they 1 grade level above average? 1 grade level below average? **Find out specifically by looking for your district (“leaname”) and its achievement in comparison to the national average**   \n",
    "note, the standardized outcome measure (“meangs”) has already been converted to grade-level equivalents (e.g., 0 represents the national average; 1 represents 1 grade level above average; -1 represents 1 grade level below average)."
   ]
  },
  {
   "cell_type": "code",
   "execution_count": 3,
   "id": "460b3825",
   "metadata": {},
   "outputs": [
    {
     "name": "stdout",
     "output_type": "stream",
     "text": [
      "Albany City Unified is 2 grade levels above average"
     ]
    }
   ],
   "source": [
    "df_alb <- filter(df, leaname == \"Albany City Unified\")\n",
    "cat(sprintf(\"% s is % s grade levels above average\", df_alb$leaname, df_alb$meangs))"
   ]
  },
  {
   "cell_type": "markdown",
   "id": "f3bb2c35",
   "metadata": {},
   "source": [
    "## (ii)\n",
    "**What are the mean, median, 10th, 25th, 75th, and 90th percentile of academic achievement? (1)**  \n",
    "[Hint: use the sum command with the detail option (options come at the end of a Stata command, following a comma). For help, search on “summarize” in the Stata help menus.] **How many public school districts are there in the US? (2)** Did you **take into account the district’s student enrollment size (“mnenrol”) in the calculation of the distribution of academic achievement above? [hint: if not, go back & do so] (3)**"
   ]
  },
  {
   "cell_type": "markdown",
   "id": "535cd8cf",
   "metadata": {},
   "source": [
    "**1) What are the mean, median, 10th, 25th, 75th, and 90th percentile of academic achievement?**"
   ]
  },
  {
   "cell_type": "code",
   "execution_count": 4,
   "id": "32ba8f25",
   "metadata": {},
   "outputs": [
    {
     "name": "stdout",
     "output_type": "stream",
     "text": [
      "\n",
      "Mean: 0.08507937\n",
      "Median: 0\n",
      "0.1 percentile: -1 \n",
      "0.25 percentile: -1 \n",
      "0.75 percentile: 1 \n",
      "0.9 percentile: 1 \n"
     ]
    }
   ],
   "source": [
    "cat(\"\\nMean: \")\n",
    "cat(mean(df$meangs))\n",
    "cat(\"\\nMedian: \")\n",
    "cat(median(df$meangs))\n",
    "cat(\"\\n\")\n",
    "for (val in list(0.1, 0.25, 0.75, 0.9)) {\n",
    "    cat(format(val), \"percentile:\", paste(quantile(df$meangs, val), \"\\n\"))\n",
    "}"
   ]
  },
  {
   "cell_type": "code",
   "execution_count": 5,
   "id": "8bbcb248",
   "metadata": {},
   "outputs": [],
   "source": [
    "# scale visuals\n",
    "options(repr.plot.width=4, repr.plot.height=3)"
   ]
  },
  {
   "cell_type": "markdown",
   "id": "86ac28aa",
   "metadata": {},
   "source": [
    "**2) How many public school districts are there in the US?**"
   ]
  },
  {
   "cell_type": "code",
   "execution_count": 6,
   "id": "553f1d5c",
   "metadata": {},
   "outputs": [
    {
     "name": "stdout",
     "output_type": "stream",
     "text": [
      "There are 12,209 unique districts (12,600 with duplicates)"
     ]
    }
   ],
   "source": [
    "unique = formatC(length(unique(df$leaname)),format=\"f\", big.mark=\",\", digits=0)\n",
    "non_unique = formatC(length(df$leaname),format=\"f\", big.mark=\",\", digits=0)\n",
    "cat(sprintf(\"There are % s unique districts (% s with duplicates)\", unique, non_unique))"
   ]
  },
  {
   "cell_type": "markdown",
   "id": "ac279d39",
   "metadata": {},
   "source": [
    "**3) What are the mean, median, 10th, 25th, 75th, and 90th percentile of academic achievement - adjusted for enrollment**"
   ]
  },
  {
   "cell_type": "code",
   "execution_count": 7,
   "id": "8c8143ec",
   "metadata": {},
   "outputs": [
    {
     "name": "stdout",
     "output_type": "stream",
     "text": [
      "The Weighted Mean for academic achievement is: 0.005766008 \n",
      "The Weighted Median for academic achievement is: 0 \n",
      "0.1 weighted percentile: -1 \n",
      "0.25 weighted percentile: -1 \n",
      "0.75 weighted percentile: 1 \n",
      "0.9 weighted percentile: 1 \n"
     ]
    }
   ],
   "source": [
    "weightvec <- c()\n",
    "total <- sum(df$mnenrol)\n",
    "for(i in 1:length(df$leaname)){\n",
    "  weightvec[i] <- (df$mnenrol[i]/total)\n",
    "}\n",
    "\n",
    "cat(\"The Weighted Mean for academic achievement is:\", weighted.mean(df$meangs, weightvec), \"\\n\")\n",
    "cat(\"The Weighted Median for academic achievement is:\", weighted.quantile(df$meangs, weightvec, .5), \"\\n\")\n",
    "for (val in list(0.1, 0.25, 0.75, 0.9)){\n",
    "  cat(format(val), \"weighted percentile:\", paste(weighted.quantile(df$meangs, weightvec, val), \"\\n\"))}"
   ]
  },
  {
   "cell_type": "markdown",
   "id": "1ec27b37",
   "metadata": {},
   "source": [
    "## (iii)"
   ]
  },
  {
   "cell_type": "code",
   "execution_count": 8,
   "id": "d857d36b",
   "metadata": {
    "scrolled": true
   },
   "outputs": [
    {
     "name": "stderr",
     "output_type": "stream",
     "text": [
      "Parsed with column specification:\n",
      "cols(\n",
      "  leaid = col_double(),\n",
      "  leaname = col_character(),\n",
      "  fips = col_double(),\n",
      "  stateabb = col_character(),\n",
      "  ses = col_double(),\n",
      "  meangs = col_double(),\n",
      "  mnenrol = col_double(),\n",
      "  top100 = col_double()\n",
      ")\n"
     ]
    }
   ],
   "source": [
    "socio_econ_df <- read_csv(\"data/small SEDA v30 district data for example code.csv\", col_names = TRUE)"
   ]
  },
  {
   "cell_type": "code",
   "execution_count": 9,
   "id": "0a845740",
   "metadata": {},
   "outputs": [
    {
     "name": "stdout",
     "output_type": "stream",
     "text": [
      "Correlation coefficient:  0.7679985"
     ]
    }
   ],
   "source": [
    "cat(\"Correlation coefficient: \", cor(socio_econ_df$meangs, socio_econ_df$ses))"
   ]
  },
  {
   "cell_type": "markdown",
   "id": "5f21a924",
   "metadata": {},
   "source": [
    "## (iv)"
   ]
  },
  {
   "cell_type": "code",
   "execution_count": 10,
   "id": "46f15088",
   "metadata": {},
   "outputs": [],
   "source": [
    "# scale visuals\n",
    "options(repr.plot.width=5, repr.plot.height=5)"
   ]
  },
  {
   "cell_type": "code",
   "execution_count": 11,
   "id": "20dcaed1",
   "metadata": {},
   "outputs": [
    {
     "data": {
      "image/png": "[encoded data removed]",
      "text/plain": [
       "plot without title"
      ]
     },
     "metadata": {},
     "output_type": "display_data"
    }
   ],
   "source": [
    "ggplot(socio_econ_df, aes(x=meangs, y=ses)) +\n",
    "geom_point(alpha = 0.6, color=\"royalblue\", size=socio_econ_df$mnenrol *.0003) +\n",
    "xlab(\"Average academic achievement\") + ylab(\"District socioeconomic status\") + \n",
    "ggtitle(\"Average academic achievement/\\nDistrict socioeconomic status\")"
   ]
  }
 ],
 "metadata": {
  "kernelspec": {
   "display_name": "R",
   "language": "R",
   "name": "ir"
  },
  "language_info": {
   "codemirror_mode": "r",
   "file_extension": ".r",
   "mimetype": "text/x-r-source",
   "name": "R",
   "pygments_lexer": "r",
   "version": "3.6.1"
  }
 },
 "nbformat": 4,
 "nbformat_minor": 5
}
