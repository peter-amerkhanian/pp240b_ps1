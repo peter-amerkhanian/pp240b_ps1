{
 "cells": [
  {
   "cell_type": "code",
   "execution_count": 1,
   "id": "350ff749",
   "metadata": {},
   "outputs": [
    {
     "name": "stderr",
     "output_type": "stream",
     "text": [
      "\n",
      "Attaching package: 'dplyr'\n",
      "\n",
      "The following objects are masked from 'package:stats':\n",
      "\n",
      "    filter, lag\n",
      "\n",
      "The following objects are masked from 'package:base':\n",
      "\n",
      "    intersect, setdiff, setequal, union\n",
      "\n",
      "Registered S3 methods overwritten by 'ggplot2':\n",
      "  method         from \n",
      "  [.quosures     rlang\n",
      "  c.quosures     rlang\n",
      "  print.quosures rlang\n"
     ]
    }
   ],
   "source": [
    "library(readr)\n",
    "library(dplyr)\n",
    "library(ggplot2)\n",
    "library(repr)"
   ]
  },
  {
   "cell_type": "code",
   "execution_count": 2,
   "id": "0530ef98",
   "metadata": {},
   "outputs": [
    {
     "name": "stderr",
     "output_type": "stream",
     "text": [
      "Parsed with column specification:\n",
      "cols(\n",
      "  leaid = col_double(),\n",
      "  leaname = col_character(),\n",
      "  fips = col_double(),\n",
      "  stateabb = col_character(),\n",
      "  ses = col_double(),\n",
      "  meangs = col_double(),\n",
      "  mnenrol = col_double(),\n",
      "  top100 = col_double()\n",
      ")\n"
     ]
    }
   ],
   "source": [
    "cols_ <- c(\"leaid\", \"leaname\",\"fips\", \"stateabb\", \"ses\", \"meangs\", \"mnenrol\", \"top100\")\n",
    "df <- read_csv(\"data/SEDA_DistrictData_toconvertforR.csv\", \n",
    "    col_names = cols_)"
   ]
  },
  {
   "cell_type": "markdown",
   "id": "e49161f6",
   "metadata": {},
   "source": [
    "# Problem Set 1, PP240B\n",
    "## Peter Amerkhanian"
   ]
  },
  {
   "cell_type": "markdown",
   "id": "2f3b6d77",
   "metadata": {},
   "source": [
    "## Question 8\n",
    "## (i)\n",
    "How do you think the average student in your elementary school or district compared to the national average on math and reading tests?  \n",
    "Were they 1 grade level above average? 1 grade level below average? **Find out specifically by looking for your district (“leaname”) and its achievement in comparison to the national average**   \n",
    "note, the standardized outcome measure (“meangs”) has already been converted to grade-level equivalents (e.g., 0 represents the national average; 1 represents 1 grade level above average; -1 represents 1 grade level below average)."
   ]
  },
  {
   "cell_type": "code",
   "execution_count": 3,
   "id": "460b3825",
   "metadata": {},
   "outputs": [
    {
     "name": "stdout",
     "output_type": "stream",
     "text": [
      "Albany City Unified is 2 grade levels above average"
     ]
    }
   ],
   "source": [
    "df_alb <- filter(df, leaname == \"Albany City Unified\")\n",
    "cat(sprintf(\"% s is % s grade levels above average\", df_alb$leaname, df_alb$meangs))"
   ]
  },
  {
   "cell_type": "markdown",
   "id": "f3bb2c35",
   "metadata": {},
   "source": [
    "## (ii)\n",
    "**What are the mean, median, 10th, 25th, 75th, and 90th percentile of academic achievement? (1)**  \n",
    "[Hint: use the sum command with the detail option (options come at the end of a Stata command, following a comma). For help, search on “summarize” in the Stata help menus.] **How many public school districts are there in the US? (2)** Did you **take into account the district’s student enrollment size (“mnenrol”) in the calculation of the distribution of academic achievement above? [hint: if not, go back & do so] (3)**"
   ]
  },
  {
   "cell_type": "markdown",
   "id": "535cd8cf",
   "metadata": {},
   "source": [
    "**1) What are the mean, median, 10th, 25th, 75th, and 90th percentile of academic achievement?**"
   ]
  },
  {
   "cell_type": "code",
   "execution_count": 4,
   "id": "32ba8f25",
   "metadata": {},
   "outputs": [
    {
     "name": "stdout",
     "output_type": "stream",
     "text": [
      "\n",
      "Mean: 0.08507937\n",
      "Median: 0\n",
      "0.1 percentile: -1 \n",
      "0.25 percentile: -1 \n",
      "0.75 percentile: 1 \n",
      "0.9 percentile: 1 \n"
     ]
    }
   ],
   "source": [
    "cat(\"\\nMean: \")\n",
    "cat(mean(df$meangs))\n",
    "cat(\"\\nMedian: \")\n",
    "cat(median(df$meangs))\n",
    "cat(\"\\n\")\n",
    "for (val in list(0.1, 0.25, 0.75, 0.9)) cat(format(val), \"percentile:\", paste(quantile(df$meangs, val), \"\\n\"))"
   ]
  },
  {
   "cell_type": "code",
   "execution_count": 5,
   "id": "568fc5cd",
   "metadata": {},
   "outputs": [
    {
     "data": {
      "text/plain": [
       "    Min.  1st Qu.   Median     Mean  3rd Qu.     Max. \n",
       "-7.00000 -1.00000  0.00000  0.08508  1.00000  4.00000 "
      ]
     },
     "metadata": {},
     "output_type": "display_data"
    }
   ],
   "source": [
    "summary(df$meangs)"
   ]
  },
  {
   "cell_type": "code",
   "execution_count": 6,
   "id": "8bbcb248",
   "metadata": {},
   "outputs": [],
   "source": [
    "# scale visuals\n",
    "options(repr.plot.width=4, repr.plot.height=3)"
   ]
  },
  {
   "cell_type": "code",
   "execution_count": 7,
   "id": "668e0636",
   "metadata": {},
   "outputs": [
    {
     "data": {
      "image/png": "[encoded data removed]",
      "text/plain": [
       "plot without title"
      ]
     },
     "metadata": {},
     "output_type": "display_data"
    }
   ],
   "source": [
    "ggplot(df, aes(x=meangs)) + geom_histogram(binwidth=1, colour=\"white\", fill=\"royalblue\")"
   ]
  },
  {
   "cell_type": "markdown",
   "id": "86ac28aa",
   "metadata": {},
   "source": [
    "**2) How many public school districts are there in the US?**"
   ]
  },
  {
   "cell_type": "code",
   "execution_count": 9,
   "id": "553f1d5c",
   "metadata": {},
   "outputs": [
    {
     "name": "stdout",
     "output_type": "stream",
     "text": [
      "There are 12,209 districts"
     ]
    }
   ],
   "source": [
    "cat(sprintf(\"There are % s districts\", formatC(length(unique(df$leaname)), format=\"f\", big.mark=\",\", digits=0)))"
   ]
  },
  {
   "cell_type": "markdown",
   "id": "ac279d39",
   "metadata": {},
   "source": [
    "**3) What are the mean, median, 10th, 25th, 75th, and 90th percentile of academic achievement - adjusted for enrollment**"
   ]
  },
  {
   "cell_type": "code",
   "execution_count": 10,
   "id": "77deaa0c",
   "metadata": {},
   "outputs": [
    {
     "name": "stdout",
     "output_type": "stream",
     "text": [
      "Students in schools at 0 levels: 1359413 \n",
      "Students in schools at 1 levels: 826510 \n",
      "Students in schools at -1 levels: 865429 \n",
      "Students in schools at 2 levels: 249510 \n",
      "Students in schools at -2 levels: 268268 \n",
      "Students in schools at 3 levels: 49258 \n",
      "Students in schools at -3 levels: 18424 \n",
      "Students in schools at -4 levels: 787 \n",
      "Students in schools at 4 levels: 2115 \n",
      "Students in schools at -7 levels: 31 \n",
      "Students in schools at -5 levels: 35 \n",
      "\n",
      "mean: 0.005766008 \n",
      "median: 0 \n",
      "0.1 percentile: -1 \n",
      "0.25 percentile: -1 \n",
      "0.75 percentile: 1 \n",
      "0.9 percentile: 1 \n"
     ]
    }
   ],
   "source": [
    "summary_df <- dplyr::count(df, meangs, sort = TRUE)\n",
    "students_vector = c()\n",
    "for (val in summary_df$meangs)\n",
    "    {\n",
    "    grade_level <- val\n",
    "    num_of_students_at_grade_level = sum(filter(df, meangs == val)$mnenrol)\n",
    "    o <- sprintf(\"Students in schools at %d levels: %s\", grade_level, num_of_students_at_grade_level)\n",
    "    cat(o, \"\\n\")\n",
    "    # A vector where elements are a given grade level n times (n=students in schools at that grade level)\n",
    "    column <- rep(c(grade_level), num_of_students_at_grade_level)\n",
    "    # A vector where every student is represented by the grades-above-average their school is\n",
    "    students_vector <- c(students_vector, column)\n",
    "}\n",
    "cat(\"\\n\")\n",
    "cat(\"mean: \")\n",
    "cat(mean(students_vector), \"\\n\")\n",
    "cat(\"median: \")\n",
    "cat(median(students_vector), \"\\n\")\n",
    "for (val in list(0.1, 0.25, 0.75, 0.9)) cat(format(val), \"percentile:\", paste(quantile(students_vector, val,), \"\\n\"))"
   ]
  },
  {
   "cell_type": "code",
   "execution_count": 11,
   "id": "f2a37db3",
   "metadata": {},
   "outputs": [
    {
     "data": {
      "text/plain": [
       "     Min.   1st Qu.    Median      Mean   3rd Qu.      Max. \n",
       "-7.000000 -1.000000  0.000000  0.005766  1.000000  4.000000 "
      ]
     },
     "metadata": {},
     "output_type": "display_data"
    }
   ],
   "source": [
    "summary(students_vector)"
   ]
  },
  {
   "cell_type": "code",
   "execution_count": 12,
   "id": "ed564981",
   "metadata": {},
   "outputs": [
    {
     "data": {
      "image/png": "[encoded data removed]",
      "text/plain": [
       "plot without title"
      ]
     },
     "metadata": {},
     "output_type": "display_data"
    }
   ],
   "source": [
    "ggplot() + aes(students_vector) + geom_histogram(binwidth=1, colour=\"white\", fill=\"royalblue\")"
   ]
  },
  {
   "cell_type": "markdown",
   "id": "1ec27b37",
   "metadata": {},
   "source": [
    "## (iii)"
   ]
  },
  {
   "cell_type": "code",
   "execution_count": 13,
   "id": "d857d36b",
   "metadata": {},
   "outputs": [
    {
     "name": "stderr",
     "output_type": "stream",
     "text": [
      "Parsed with column specification:\n",
      "cols(\n",
      "  leaid = col_double(),\n",
      "  leaname = col_character(),\n",
      "  fips = col_double(),\n",
      "  stateabb = col_character(),\n",
      "  ses = col_double(),\n",
      "  meangs = col_double(),\n",
      "  mnenrol = col_double(),\n",
      "  top100 = col_double()\n",
      ")\n"
     ]
    }
   ],
   "source": [
    "socio_econ_df <- read_csv(\"data/small SEDA v30 district data for example code.csv\", \n",
    "    col_names = TRUE)"
   ]
  },
  {
   "cell_type": "code",
   "execution_count": 14,
   "id": "0a845740",
   "metadata": {},
   "outputs": [
    {
     "name": "stdout",
     "output_type": "stream",
     "text": [
      "Correlation coefficeint:  0.7679985"
     ]
    }
   ],
   "source": [
    "cat(\"Correlation coefficeint: \", cor(socio_econ_df$meangs, socio_econ_df$ses))"
   ]
  },
  {
   "cell_type": "markdown",
   "id": "5f21a924",
   "metadata": {},
   "source": [
    "## (iv)"
   ]
  },
  {
   "cell_type": "code",
   "execution_count": 21,
   "id": "46f15088",
   "metadata": {},
   "outputs": [],
   "source": [
    "# scale visuals\n",
    "options(repr.plot.width=6, repr.plot.height=6)"
   ]
  },
  {
   "cell_type": "code",
   "execution_count": 22,
   "id": "20dcaed1",
   "metadata": {},
   "outputs": [
    {
     "data": {
      "image/png": "[encoded data removed]",
      "text/plain": [
       "plot without title"
      ]
     },
     "metadata": {},
     "output_type": "display_data"
    }
   ],
   "source": [
    "ggplot(socio_econ_df, aes(x=meangs, y=ses)) +\n",
    "geom_point(colour=\"royalblue\", size=socio_econ_df$mnenrol*.0003) +\n",
    "xlab(\"average academic achievement\") + ylab(\"district socioeconomic status\") + \n",
    "ggtitle(\"average academic achievement/district socioeconomic status\")"
   ]
  },
  {
   "cell_type": "code",
   "execution_count": null,
   "id": "dbe955f1",
   "metadata": {},
   "outputs": [],
   "source": []
  }
 ],
 "metadata": {
  "kernelspec": {
   "display_name": "R",
   "language": "R",
   "name": "ir"
  },
  "language_info": {
   "codemirror_mode": "r",
   "file_extension": ".r",
   "mimetype": "text/x-r-source",
   "name": "R",
   "pygments_lexer": "r",
   "version": "3.6.1"
  }
 },
 "nbformat": 4,
 "nbformat_minor": 5
}
