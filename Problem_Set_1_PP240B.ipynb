{
 "cells": [
  {
   "cell_type": "code",
   "execution_count": 2,
   "id": "0530ef98",
   "metadata": {},
   "outputs": [
    {
     "name": "stderr",
     "output_type": "stream",
     "text": [
      "Parsed with column specification:\n",
      "cols(\n",
      "  leaid = col_double(),\n",
      "  leaname = col_character(),\n",
      "  fips = col_double(),\n",
      "  stateabb = col_character(),\n",
      "  ses = col_double(),\n",
      "  meangs = col_double(),\n",
      "  mnenrol = col_double(),\n",
      "  top100 = col_double()\n",
      ")\n"
     ]
    }
   ],
   "source": [
    "library(readr)\n",
    "library(dplyr)\n",
    "cols_ <- c(\"leaid\", \"leaname\",\"fips\", \"stateabb\", \"ses\", \"meangs\", \"mnenrol\", \"top100\")\n",
    "df <- read_csv(\"SEDA_DistrictData_toconvertforR.csv\", \n",
    "    col_names = cols_)"
   ]
  },
  {
   "cell_type": "markdown",
   "id": "e49161f6",
   "metadata": {},
   "source": [
    "### Problem Set 1, PP240B\n",
    "#### Peter Amerkhanian"
   ]
  },
  {
   "cell_type": "markdown",
   "id": "2f3b6d77",
   "metadata": {},
   "source": [
    "How do you think the average student in your elementary school or district compared to the national average on math and reading tests?  \n",
    "Were they 1 grade level above average? 1 grade level below average? **Find out specifically by looking for your district (“leaname”) and its achievement in comparison to the national average**   \n",
    "note, the standardized outcome measure (“meangs”) has already been converted to grade-level equivalents (e.g., 0 represents the national average; 1 represents 1 grade level above average; -1 represents 1 grade level below average)."
   ]
  },
  {
   "cell_type": "code",
   "execution_count": 3,
   "id": "460b3825",
   "metadata": {},
   "outputs": [
    {
     "data": {
      "text/html": [
       "'Albany City Unified is 2 grade levels above average'"
      ],
      "text/latex": [
       "'Albany City Unified is 2 grade levels above average'"
      ],
      "text/markdown": [
       "'Albany City Unified is 2 grade levels above average'"
      ],
      "text/plain": [
       "[1] \"Albany City Unified is 2 grade levels above average\""
      ]
     },
     "metadata": {},
     "output_type": "display_data"
    }
   ],
   "source": [
    "df_alb <- filter(df, leaname == \"Albany City Unified\")\n",
    "sprintf(\"% s is % s grade levels above average\", df_alb$leaname, df_alb$meangs)"
   ]
  },
  {
   "cell_type": "markdown",
   "id": "f3bb2c35",
   "metadata": {},
   "source": [
    "**What are the mean, median, 10th, 25th, 75th, and 90th percentile of academic achievement? (1)**  \n",
    "[Hint: use the sum command with the detail option (options come at the end of a Stata command, following a comma). For help, search on “summarize” in the Stata help menus.] **How many public school districts are there in the US? (2)** Did you **take into account the district’s student enrollment size (“mnenrol”) in the calculation of the distribution of academic achievement above? [hint: if not, go back & do so] (3)**"
   ]
  },
  {
   "cell_type": "markdown",
   "id": "535cd8cf",
   "metadata": {},
   "source": [
    "**1) What are the mean, median, 10th, 25th, 75th, and 90th percentile of academic achievement?**"
   ]
  },
  {
   "cell_type": "code",
   "execution_count": 4,
   "id": "32ba8f25",
   "metadata": {},
   "outputs": [
    {
     "name": "stdout",
     "output_type": "stream",
     "text": [
      "Median \n",
      "     0 \n",
      "      Mean \n",
      "0.08507937 \n",
      "10% \n",
      " -1 \n",
      "25% \n",
      " -1 \n",
      "75% \n",
      "  1 \n",
      "90% \n",
      "  1 \n"
     ]
    }
   ],
   "source": [
    "print(summary(df$meangs)[3])\n",
    "print(summary(df$meangs)[4])\n",
    "for (val in list(0.1, 0.25, 0.75, 0.9)) print(quantile(df$meangs, val))"
   ]
  },
  {
   "cell_type": "markdown",
   "id": "86ac28aa",
   "metadata": {},
   "source": [
    "**2) How many public school districts are there in the US?**"
   ]
  },
  {
   "cell_type": "code",
   "execution_count": 5,
   "id": "553f1d5c",
   "metadata": {},
   "outputs": [
    {
     "data": {
      "text/html": [
       "'There are 12,209 districts'"
      ],
      "text/latex": [
       "'There are 12,209 districts'"
      ],
      "text/markdown": [
       "'There are 12,209 districts'"
      ],
      "text/plain": [
       "[1] \"There are 12,209 districts\""
      ]
     },
     "metadata": {},
     "output_type": "display_data"
    }
   ],
   "source": [
    "sprintf(\"There are % s districts\", formatC(length(unique(df$leaname)), format=\"f\", big.mark=\",\", digits=0))"
   ]
  },
  {
   "cell_type": "markdown",
   "id": "ac279d39",
   "metadata": {},
   "source": [
    "**3) What are the mean, median, 10th, 25th, 75th, and 90th percentile of academic achievement - adjusted for enrollment**"
   ]
  },
  {
   "cell_type": "code",
   "execution_count": 6,
   "id": "77deaa0c",
   "metadata": {},
   "outputs": [
    {
     "name": "stdout",
     "output_type": "stream",
     "text": [
      "[1] \"Students in schools at 0: 1359413\"\n",
      "[1] \"Students in schools at 1: 826510\"\n",
      "[1] \"Students in schools at -1: 865429\"\n",
      "[1] \"Students in schools at 2: 249510\"\n",
      "[1] \"Students in schools at -2: 268268\"\n",
      "[1] \"Students in schools at 3: 49258\"\n",
      "[1] \"Students in schools at -3: 18424\"\n",
      "[1] \"Students in schools at -4: 787\"\n",
      "[1] \"Students in schools at 4: 2115\"\n",
      "[1] \"Students in schools at -7: 31\"\n",
      "[1] \"Students in schools at -5: 35\"\n",
      "Median \n",
      "     0 \n",
      "       Mean \n",
      "0.005766008 \n",
      "10% \n",
      " -1 \n",
      "25% \n",
      " -1 \n",
      "75% \n",
      "  1 \n",
      "90% \n",
      "  1 \n"
     ]
    }
   ],
   "source": [
    "summary_df <- dplyr::count(df, meangs, sort = TRUE)\n",
    "students_vector = c()\n",
    "for (val in summary_df$meangs)\n",
    "    {\n",
    "    grade_level <- val\n",
    "    num_of_students_at_grade_level = sum(filter(df, meangs == val)$mnenrol)\n",
    "    o <- sprintf(\"Students in schools at %d: %s\", grade_level, num_of_students_at_grade_level)\n",
    "    print(o)\n",
    "    # A vector where elements are a given grade level n times (n=students in schools at that grade level)\n",
    "    column <- rep(c(grade_level), num_of_students_at_grade_level)\n",
    "    # A vector where every student is represented by the grades-above-average their school is\n",
    "    students_vector <- c(students_vector, column)\n",
    "}\n",
    "\n",
    "print(summary(students_vector)[3])\n",
    "print(summary(students_vector)[4])\n",
    "for (val in list(0.1, 0.25, 0.75, 0.9)) print(quantile(students_vector, val))"
   ]
  },
  {
   "cell_type": "code",
   "execution_count": null,
   "id": "f2a37db3",
   "metadata": {},
   "outputs": [],
   "source": []
  }
 ],
 "metadata": {
  "kernelspec": {
   "display_name": "R",
   "language": "R",
   "name": "ir"
  },
  "language_info": {
   "codemirror_mode": "r",
   "file_extension": ".r",
   "mimetype": "text/x-r-source",
   "name": "R",
   "pygments_lexer": "r",
   "version": "3.6.1"
  }
 },
 "nbformat": 4,
 "nbformat_minor": 5
}
